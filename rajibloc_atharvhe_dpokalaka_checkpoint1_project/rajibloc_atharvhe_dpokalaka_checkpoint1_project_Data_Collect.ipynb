{
 "cells": [
  {
   "cell_type": "code",
   "execution_count": 1,
   "metadata": {},
   "outputs": [
    {
     "name": "stderr",
     "output_type": "stream",
     "text": [
      "/Users/rajibdas/Library/Python/3.9/lib/python/site-packages/urllib3/__init__.py:34: NotOpenSSLWarning: urllib3 v2.0 only supports OpenSSL 1.1.1+, currently the 'ssl' module is compiled with 'LibreSSL 2.8.3'. See: https://github.com/urllib3/urllib3/issues/3020\n",
      "  warnings.warn(\n"
     ]
    }
   ],
   "source": [
    "from bs4 import BeautifulSoup\n",
    "import re\n",
    "import requests\n",
    "from tqdm import tqdm"
   ]
  },
  {
   "cell_type": "code",
   "execution_count": 2,
   "metadata": {},
   "outputs": [],
   "source": [
    "questions = []\n",
    "answers = []"
   ]
  },
  {
   "cell_type": "code",
   "execution_count": 3,
   "metadata": {},
   "outputs": [
    {
     "name": "stderr",
     "output_type": "stream",
     "text": [
      "100%|██████████| 67/67 [12:10<00:00, 10.90s/it]\n"
     ]
    }
   ],
   "source": [
    "web = \"https://artofproblemsolving.com\"\n",
    "url = \"https://artofproblemsolving.com/wiki/index.php/AIME_Problems_and_Solutions\"\n",
    "\n",
    "response = requests.get(url)\n",
    "soup = BeautifulSoup(response.content, 'html.parser')\n",
    "\n",
    "td_tags = soup.find_all('td')\n",
    "hrefs = [a['href'] for td in td_tags for a in td.find_all('a')]\n",
    "\n",
    "def extract_problem_text(soup):\n",
    "    parts = []\n",
    "    problem_heading = soup.find('span', id=re.compile(r'^Problem(_\\d+)?(.+)?$')).parent\n",
    "    for element in problem_heading.find_next_siblings():\n",
    "        if element.name == 'h2':\n",
    "            break\n",
    "        if element.name == 'p':\n",
    "            for child in element.descendants:\n",
    "                if child.name == 'img' and 'latex' in child.get('class', []):\n",
    "                    parts.append(child.get('alt', ''))\n",
    "                elif isinstance(child, str):\n",
    "                    parts.append(child.strip())\n",
    "    return ' '.join(parts)\n",
    "\n",
    "def extract_solution_text(soup):\n",
    "    parts = []\n",
    "    solution_heading = soup.find('span', id=re.compile(r'^Solution(_\\d+)?(.+)?$')).parent\n",
    "    for element in solution_heading.find_all_next():\n",
    "        if element.name == 'h2':\n",
    "            break\n",
    "        if element.name == 'p':\n",
    "            for child in element.descendants:\n",
    "                if child.name == 'img' and 'latex' in child.get('class', []):\n",
    "                    parts.append(child.get('alt', ''))\n",
    "                elif isinstance(child, str):\n",
    "                    parts.append(child.strip())\n",
    "    return ' '.join(parts)\n",
    "\n",
    "\n",
    "for link in tqdm(hrefs):\n",
    "    new_link = web+link\n",
    "    response = requests.get(new_link)\n",
    "    soup = BeautifulSoup(response.content, 'html.parser')\n",
    "    q = soup.find_all('td')[-2]\n",
    "    qls = [a['href'] for a in q.find_all('a')]\n",
    "    for ql in qls:\n",
    "        q_link = web + ql\n",
    "        response = requests.get(q_link)\n",
    "        soup = BeautifulSoup(response.content, 'html.parser')\n",
    "        p = extract_problem_text(soup)\n",
    "        a = extract_solution_text(soup)\n",
    "        \n",
    "        questions.append(p)\n",
    "        answers.append(a)"
   ]
  },
  {
   "cell_type": "code",
   "execution_count": 4,
   "metadata": {},
   "outputs": [],
   "source": [
    "import pandas as pd\n",
    "df = pd.DataFrame({\"questions\": questions, \"answers\": answers})"
   ]
  },
  {
   "cell_type": "code",
   "execution_count": 5,
   "metadata": {},
   "outputs": [],
   "source": [
    "df.to_csv(\"aime.csv\")"
   ]
  },
  {
   "cell_type": "code",
   "execution_count": null,
   "metadata": {},
   "outputs": [],
   "source": []
  }
 ],
 "metadata": {
  "kernelspec": {
   "display_name": "Python 3 (ipykernel)",
   "language": "python",
   "name": "python3"
  },
  "language_info": {
   "codemirror_mode": {
    "name": "ipython",
    "version": 3
   },
   "file_extension": ".py",
   "mimetype": "text/x-python",
   "name": "python",
   "nbconvert_exporter": "python",
   "pygments_lexer": "ipython3",
   "version": "3.9.6"
  }
 },
 "nbformat": 4,
 "nbformat_minor": 4
}
